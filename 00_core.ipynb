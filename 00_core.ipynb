{
 "cells": [
  {
   "cell_type": "code",
   "execution_count": 1,
   "metadata": {},
   "outputs": [],
   "source": [
    "# default_exp core"
   ]
  },
  {
   "cell_type": "markdown",
   "metadata": {},
   "source": [
    "# module name here\n",
    "\n",
    "> API details."
   ]
  },
  {
   "cell_type": "code",
   "execution_count": 2,
   "metadata": {},
   "outputs": [],
   "source": [
    "#hide\n",
    "from nbdev.showdoc import *"
   ]
  },
  {
   "cell_type": "code",
   "execution_count": 3,
   "metadata": {},
   "outputs": [],
   "source": [
    "#export\n",
    "def say_hello(to):\n",
    "    \"Say hello to somebody\"\n",
    "    return f'Hello {to}!'"
   ]
  },
  {
   "cell_type": "code",
   "execution_count": 4,
   "metadata": {},
   "outputs": [
    {
     "data": {
      "text/plain": [
       "'Hello Kurian!'"
      ]
     },
     "execution_count": 4,
     "metadata": {},
     "output_type": "execute_result"
    }
   ],
   "source": [
    "say_hello(\"Kurian\")"
   ]
  },
  {
   "cell_type": "code",
   "execution_count": 5,
   "metadata": {},
   "outputs": [],
   "source": [
    "from IPython.display import display,SVG"
   ]
  },
  {
   "cell_type": "code",
   "execution_count": 6,
   "metadata": {},
   "outputs": [],
   "source": [
    "assert say_hello(\"Jeremy\")==\"Hello Jeremy!\""
   ]
  },
  {
   "cell_type": "markdown",
   "metadata": {},
   "source": [
    "## Attempting chunking"
   ]
  },
  {
   "cell_type": "code",
   "execution_count": 11,
   "metadata": {},
   "outputs": [
    {
     "name": "stderr",
     "output_type": "stream",
     "text": [
      "No model was supplied, defaulted to sshleifer/distilbart-cnn-12-6 (https://huggingface.co/sshleifer/distilbart-cnn-12-6)\n"
     ]
    },
    {
     "data": {
      "application/vnd.jupyter.widget-view+json": {
       "model_id": "671eb2bdac2f464da457beefdf806a28",
       "version_major": 2,
       "version_minor": 0
      },
      "text/plain": [
       "Downloading:   0%|          | 0.00/1.76k [00:00<?, ?B/s]"
      ]
     },
     "metadata": {},
     "output_type": "display_data"
    },
    {
     "data": {
      "application/vnd.jupyter.widget-view+json": {
       "model_id": "dbefe20806f34880a98b7b842895c0a7",
       "version_major": 2,
       "version_minor": 0
      },
      "text/plain": [
       "Downloading:   0%|          | 0.00/1.14G [00:00<?, ?B/s]"
      ]
     },
     "metadata": {},
     "output_type": "display_data"
    },
    {
     "data": {
      "application/vnd.jupyter.widget-view+json": {
       "model_id": "6226259d754647f38708042eb1844e91",
       "version_major": 2,
       "version_minor": 0
      },
      "text/plain": [
       "Downloading:   0%|          | 0.00/26.0 [00:00<?, ?B/s]"
      ]
     },
     "metadata": {},
     "output_type": "display_data"
    },
    {
     "data": {
      "application/vnd.jupyter.widget-view+json": {
       "model_id": "dc0625fc31c441029d55bef576dfe77e",
       "version_major": 2,
       "version_minor": 0
      },
      "text/plain": [
       "Downloading:   0%|          | 0.00/878k [00:00<?, ?B/s]"
      ]
     },
     "metadata": {},
     "output_type": "display_data"
    },
    {
     "data": {
      "application/vnd.jupyter.widget-view+json": {
       "model_id": "b094c6e8fa8f4622b5be7e79f6553251",
       "version_major": 2,
       "version_minor": 0
      },
      "text/plain": [
       "Downloading:   0%|          | 0.00/446k [00:00<?, ?B/s]"
      ]
     },
     "metadata": {},
     "output_type": "display_data"
    }
   ],
   "source": [
    "import pandas as pd\n",
    "from transformers import pipeline\n",
    "\n",
    "classifier = pipeline(\"summarization\")"
   ]
  },
  {
   "cell_type": "code",
   "execution_count": 9,
   "metadata": {},
   "outputs": [
    {
     "data": {
      "text/html": [
       "<div>\n",
       "<style scoped>\n",
       "    .dataframe tbody tr th:only-of-type {\n",
       "        vertical-align: middle;\n",
       "    }\n",
       "\n",
       "    .dataframe tbody tr th {\n",
       "        vertical-align: top;\n",
       "    }\n",
       "\n",
       "    .dataframe thead th {\n",
       "        text-align: right;\n",
       "    }\n",
       "</style>\n",
       "<table border=\"1\" class=\"dataframe\">\n",
       "  <thead>\n",
       "    <tr style=\"text-align: right;\">\n",
       "      <th></th>\n",
       "      <th>Match_id</th>\n",
       "      <th>Team</th>\n",
       "      <th>Over_num</th>\n",
       "      <th>Commentary</th>\n",
       "      <th>batsman</th>\n",
       "      <th>score</th>\n",
       "    </tr>\n",
       "  </thead>\n",
       "  <tbody>\n",
       "    <tr>\n",
       "      <th>0</th>\n",
       "      <td>4281444</td>\n",
       "      <td>RCB 1st Inns</td>\n",
       "      <td>0.5</td>\n",
       "      <td>Nehra to Mandeep, FOUR, first boundary for Man...</td>\n",
       "      <td>Nehra to Mandeep</td>\n",
       "      <td>FOUR</td>\n",
       "    </tr>\n",
       "    <tr>\n",
       "      <th>1</th>\n",
       "      <td>4281444</td>\n",
       "      <td>RCB 1st Inns</td>\n",
       "      <td>1.0</td>\n",
       "      <td>Nehra to Mandeep, FOUR, back-to-back boundarie...</td>\n",
       "      <td>Nehra to Mandeep</td>\n",
       "      <td>FOUR</td>\n",
       "    </tr>\n",
       "    <tr>\n",
       "      <th>2</th>\n",
       "      <td>4281444</td>\n",
       "      <td>RCB 1st Inns</td>\n",
       "      <td>10.0</td>\n",
       "      <td>Henriques to Kedar Jadhav, FOUR, hit straight ...</td>\n",
       "      <td>Henriques to Kedar Jadhav</td>\n",
       "      <td>FOUR</td>\n",
       "    </tr>\n",
       "    <tr>\n",
       "      <th>3</th>\n",
       "      <td>4281444</td>\n",
       "      <td>RCB 1st Inns</td>\n",
       "      <td>10.4</td>\n",
       "      <td>Nehra to Kedar Jadhav, FOUR, another full toss...</td>\n",
       "      <td>Nehra to Kedar Jadhav</td>\n",
       "      <td>FOUR</td>\n",
       "    </tr>\n",
       "    <tr>\n",
       "      <th>4</th>\n",
       "      <td>4281444</td>\n",
       "      <td>RCB 1st Inns</td>\n",
       "      <td>10.5</td>\n",
       "      <td>Nehra to Kedar Jadhav, FOUR, four more. Jadhav...</td>\n",
       "      <td>Nehra to Kedar Jadhav</td>\n",
       "      <td>FOUR</td>\n",
       "    </tr>\n",
       "  </tbody>\n",
       "</table>\n",
       "</div>"
      ],
      "text/plain": [
       "   Match_id          Team  Over_num  \\\n",
       "0   4281444  RCB 1st Inns       0.5   \n",
       "1   4281444  RCB 1st Inns       1.0   \n",
       "2   4281444  RCB 1st Inns      10.0   \n",
       "3   4281444  RCB 1st Inns      10.4   \n",
       "4   4281444  RCB 1st Inns      10.5   \n",
       "\n",
       "                                          Commentary  \\\n",
       "0  Nehra to Mandeep, FOUR, first boundary for Man...   \n",
       "1  Nehra to Mandeep, FOUR, back-to-back boundarie...   \n",
       "2  Henriques to Kedar Jadhav, FOUR, hit straight ...   \n",
       "3  Nehra to Kedar Jadhav, FOUR, another full toss...   \n",
       "4  Nehra to Kedar Jadhav, FOUR, four more. Jadhav...   \n",
       "\n",
       "                     batsman score  \n",
       "0           Nehra to Mandeep  FOUR  \n",
       "1           Nehra to Mandeep  FOUR  \n",
       "2  Henriques to Kedar Jadhav  FOUR  \n",
       "3      Nehra to Kedar Jadhav  FOUR  \n",
       "4      Nehra to Kedar Jadhav  FOUR  "
      ]
     },
     "execution_count": 9,
     "metadata": {},
     "output_type": "execute_result"
    }
   ],
   "source": [
    "df = pd.read_csv(\"input/IPL_Match_Highlights_Commentary.csv\")\n",
    "df.head()"
   ]
  },
  {
   "cell_type": "code",
   "execution_count": 15,
   "metadata": {},
   "outputs": [],
   "source": [
    "smaller_sample_match = df[df[\"Match_id\"]==3495290]\n",
    "smaller_sample_match.shape\n",
    "full_text_smaller_sample_text = ''.join(smaller_sample_match['Commentary'])"
   ]
  },
  {
   "cell_type": "code",
   "execution_count": 16,
   "metadata": {},
   "outputs": [
    {
     "data": {
      "text/plain": [
       "[{'summary_text': ' Shreyas Gopal takes the prized scalp of RCB skipper Virat Kohli for the second time in the tournament . Gopal on a hat-trick for RR, take a bow . Kohli smashes it over the third man fence for a maximum . ABD is off the mark with a boundary .'}]"
      ]
     },
     "execution_count": 16,
     "metadata": {},
     "output_type": "execute_result"
    }
   ],
   "source": [
    "classifier(full_text_smaller_sample_text[:3000])"
   ]
  },
  {
   "cell_type": "code",
   "execution_count": 17,
   "metadata": {},
   "outputs": [
    {
     "data": {
      "text/plain": [
       "[{'summary_text': ' Parthiv Patel, Gurkeerat Singh and Klaasen all bowled out for RCB . Parag joins the party as he removes Mann, Mann and Negi . Thomas picks up his second wicket of the match . Negi gets a top-edge which loops over short fine leg and trickles away to the boundary . Livingstone grabs it with ease .'}]"
      ]
     },
     "execution_count": 17,
     "metadata": {},
     "output_type": "execute_result"
    }
   ],
   "source": [
    "classifier(full_text_smaller_sample_text[3001:5000])"
   ]
  },
  {
   "cell_type": "code",
   "execution_count": 18,
   "metadata": {},
   "outputs": [
    {
     "data": {
      "text/plain": [
       "[{'summary_text': ' Samson hit a six-wicket over the cow corner of cow corner at 136.4kph . Livingstone hit it over mid-on for a maximum . Chahal picked the length early . Samson caught by Negi at backward point . Samson c Negi b Negi 28(13) [4s-2.3]'}]"
      ]
     },
     "execution_count": 18,
     "metadata": {},
     "output_type": "execute_result"
    }
   ],
   "source": [
    "classifier(full_text_smaller_sample_text[5000:])"
   ]
  },
  {
   "cell_type": "code",
   "execution_count": 19,
   "metadata": {},
   "outputs": [
    {
     "data": {
      "text/plain": [
       "7084"
      ]
     },
     "execution_count": 19,
     "metadata": {},
     "output_type": "execute_result"
    }
   ],
   "source": [
    "len(full_text_smaller_sample_text)"
   ]
  },
  {
   "cell_type": "markdown",
   "metadata": {},
   "source": [
    "## Potential Ideas\n",
    "\n",
    "1. Do a IPL match level text summarization\n",
    "2. Corresponding to one player, see how well he played during the match\n",
    "\n",
    "\n",
    "> Note: For conversational data, use techniques like chunking and see how you can achieve goog results."
   ]
  },
  {
   "cell_type": "code",
   "execution_count": 13,
   "metadata": {},
   "outputs": [
    {
     "name": "stdout",
     "output_type": "stream",
     "text": [
      "Converted 00_core.ipynb.\n",
      "Converted index.ipynb.\n"
     ]
    }
   ],
   "source": [
    "\n",
    "\n",
    "# hide\n",
    "from nbdev.export import notebook2script\n",
    "\n",
    "notebook2script()\n",
    "\n"
   ]
  },
  {
   "cell_type": "code",
   "execution_count": null,
   "metadata": {},
   "outputs": [],
   "source": []
  }
 ],
 "metadata": {
  "kernelspec": {
   "display_name": "Python 3",
   "language": "python",
   "name": "python3"
  },
  "language_info": {
   "codemirror_mode": {
    "name": "ipython",
    "version": 3
   },
   "file_extension": ".py",
   "mimetype": "text/x-python",
   "name": "python",
   "nbconvert_exporter": "python",
   "pygments_lexer": "ipython3",
   "version": "3.10.0rc2"
  }
 },
 "nbformat": 4,
 "nbformat_minor": 2
}
